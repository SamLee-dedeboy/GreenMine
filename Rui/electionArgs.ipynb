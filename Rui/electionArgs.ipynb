{
 "cells": [
  {
   "cell_type": "code",
   "execution_count": 6,
   "metadata": {},
   "outputs": [],
   "source": [
    "import os\n",
    "import openai\n",
    "\n",
    "def ExtractArguments(input_text, prompt):\n",
    "    completion = openai.ChatCompletion.create(\n",
    "      model=\"gpt-3.5-turbo\",\n",
    "      messages=[\n",
    "        {\"role\": \"system\", \n",
    "         \"content\": input_text + \"\\n\\n \" + prompt}\n",
    "      ]\n",
    "    )\n",
    "\n",
    "    argsDict = completion.choices[0].message[\"content\"]\n",
    "    return argsDict"
   ]
  },
  {
   "cell_type": "code",
   "execution_count": 13,
   "metadata": {},
   "outputs": [
    {
     "name": "stdout",
     "output_type": "stream",
     "text": [
      "{Gore campaign: argument1 - 9,000 votes in Miami-Dade County were not counted and should have been.\n",
      "                argument2 - The manual recount in Palm Beach County should have been certified, even though it missed the deadline. \n",
      "                argument3 - A sample of the 14,000 disputed ballots should be counted immediately.\n",
      "Bush campaign: argument1 - The canvassing boards in Miami-Dade and Palm Beach counties abused their discretion in the recount process.\n",
      "                argument2 - A manual recount, especially a partial recount, is unwarranted, unfair, and without basis in Florida law.\n",
      "Intervening parties: argument1 - Any recount methodology should be consistent across all counties to ensure equal treatment of all voters.\n",
      "                        argument2 - The deadline for certification of results should not be extended to allow for a recount.}\n"
     ]
    }
   ],
   "source": [
    "input_text = \"Well, as we said, the spotlight on the contested presidential election is focused this morning on Tallahassee, and we'll have comprehensive coverage from all sides. Bill Hemmer is at Florida's capital, Mark Potter is at the Leon County Circuit Court, and CNN legal analyst Greta Van Susteren is in Washington to guide us through the legal maze, as always. We'll go first, though, to Bill Hemmer in Tallahassee -- Bill.\" + \"Hey, Kyra, good morning once again. Our viewers are going to see some very familiar names shortly here. On the Gore side, David Boies will be the lead attorney in that courtroom today. We have seen him quite a bit in the past two weeks. The gentlemen in your picture there is Joe Klock. He represents -- he's representing the Bush campaign, along with several others attorneys. And he was the one who was arguing in front of the U.S. Supreme Court yesterday in Washington. David Boies you see off to the left side of the screen. Also, the issue here is quite simple for the Gore campaign. They want a sample of those ballots, close to 14,000, counted and counted immediately, because they know the clock right now on this, the second of December, is working against Al Gore in his chances of taking the White House. The Bush folks will counter and say, Wait a minute, we cannot start counting ballots again until we determine, number one, if the canvassing boards had abused their discretion. After that, though, if the Gore campaign is successful on that charge, we'll go to the issue of standards again. What is a vote? There are a lot of people who don't believe this 12-hour hearing today will settle these issues, and we may not be any closer to the goal line at the end of the day today than we are right now. So that's what we expect shortly here. Judge Sanders Sauls, again, will be the presiding judge once he enters the courtroom there. In the meantime, across the street here, to circuit court and CNN's Mark Potter, who is positioned outside there. Mark, bring us up to date.\" + \"Well, Bill, we're awaiting the start of this hearing, which will be on the third floor of this courthouse here at the Leon County Courthouse. It's courtroom 3D. And we're waiting for the judge, N. Sanders Sauls, to walk in and begin this proceeding that he says he's going to try to keep to 12 hours. Lots of questions about whether he can actually do that, but he has told the lawyers that he wants it to last only that long and to keep their arguments short. I'm hearing sound in the courtroom. Are they announcing the arrival of the judge? They are just telling everybody to stand by. We have seen a few of the lawyers filtering in here. This is about to begin. We have never seen one of these hearings actually start right on time, but shortly afterward. This is a judge who does keep control of his courtroom. This very definitely could have an impact, an important political impact on Al Gore and George W. Bush. All eyes today on this courtroom. The lawyers in here will be debating and questioning witnesses about Al Gore's contest of this election in Florida. He claims that the vote totals were wrong and that George W. Bush should never have been certified as the winner in Florida. Among his complaints, 9,000 votes, he says, in Miami-Dade County that were never counted should have been counted and certified. He also arguing -- is -- will be arguing that the manual recount in Palm Beach County should have been certified even though it was not completed in time. The canvassing board there missing that deadline by about two hours. The vice president is asking for, though his lawyers, is asking for a manual recount, at least a partial manual recount, that is vigorously opposed by the attorneys for George W. Bush, who say, in their words, that that would be unwarranted, unfair, and without basis in Florida law. Now, there are a lot of lawyers in this courtroom today, three primary lawyers here for the Bush side, Barry Richard, Phil Beck, Irv Terrell (ph). On the Gore side, four primary lawyers, David Boies, Dexter Douglas (ph), Deeno Kitchen, and Jeff Robinson (ph). Now, there are other lawyers for those teams also in the courtroom watching this, officials of both campaigns, and there are also some intervening parties, two intervening parties represented by their attorneys, and that is why so many people have doubted that this can be done in 12 hours, too many lawyers in too small a space to finish up in one long day. But we'll see. This is a judge I -- that I said keeps control of his courtroom, and he has said he wants to get this done as quickly as possible. And we'll wait and see what he says about recounting ballots. He has to hear a lot of law, a lot of witnesses, before he makes that decision of whether there should be a manual recount, whether it's a full recount, a partial recount is to be determined, and what standards are to be used when you recount these ballots. As we know now, lots of arguments over whether to argue dimpled ballots. All this to be heard in the confines of courtroom 3D here at the Leon County Courthouse. Bill, back to you.\" + \"All right, Mark, thank you. Again to our viewers as we're watching this monitor, the gentleman, the taller gentleman that just the screen there, Irv Terrell, another member of the Bush team that came in just in the past week here in Tallahassee. Let's go up to Greta Van Susteren. Greta, address this issue that the judge was trying to determine yesterday afternoon when he said, quote, \\\"Whatever your claim, show that the outcome of this election would have been different.\\\" Is that what we're deciding, working toward today? And if so, define that for us in better terms.\"\n",
    "prompt = \"The above reference is a part of the transcript from Leon County Circuit Court Hears Arguments in Election 2000 Contest. What are the arguments for the election? Please format the response in a dictionary format, such as {name1: argument1, name2: argument2}.}\"\n",
    "args = ExtractArguments(input_text, prompt)\n",
    "print(args)"
   ]
  }
 ],
 "metadata": {
  "kernelspec": {
   "display_name": "base",
   "language": "python",
   "name": "python3"
  },
  "language_info": {
   "codemirror_mode": {
    "name": "ipython",
    "version": 3
   },
   "file_extension": ".py",
   "mimetype": "text/x-python",
   "name": "python",
   "nbconvert_exporter": "python",
   "pygments_lexer": "ipython3",
   "version": "3.10.9"
  }
 },
 "nbformat": 4,
 "nbformat_minor": 2
}
