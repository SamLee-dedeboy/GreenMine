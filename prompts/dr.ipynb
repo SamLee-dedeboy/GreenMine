{
 "cells": [
  {
   "cell_type": "code",
   "execution_count": null,
   "metadata": {},
   "outputs": [],
   "source": [
    "from sklearn.manifold import MDS, SpectralEmbedding, TSNE, LocallyLinearEmbedding\n",
    "from sklearn.decomposition import PCA, KernelPCA\n",
    "import matplotlib.pyplot as plt\n",
    "def dr(X, method=\"MDS\"):\n",
    "    if method == \"MDS\":\n",
    "        embedding = MDS(n_components=2)\n",
    "    elif method == \"spectral\":\n",
    "        embedding = SpectralEmbedding(n_components=2)\n",
    "    elif method == \"tsne\":\n",
    "        embedding = TSNE(n_components=2, learning_rate='auto', init='random', perplexity=3)\n",
    "    elif method == \"locallylinear\":\n",
    "        embedding = LocallyLinearEmbedding(n_components=2)\n",
    "    elif method == \"pca\":\n",
    "        embedding = PCA(n_components=2)\n",
    "    elif method == \"kernelpca\":\n",
    "        embedding = KernelPCA(n_components=2, kernel='sigmoid')\n",
    "    X_transformed = embedding.fit_transform(X)\n",
    "    return X_transformed\n",
    "\n",
    "def plot(XY):\n",
    "    plt.figure(figsize=(8, 6))\n",
    "    plt.scatter(XY[:, 0], XY[:, 1])\n",
    "    plt.title('Scatterplot')\n",
    "    plt.xlabel('Dimension 1')\n",
    "    plt.ylabel('Dimension 2')\n",
    "    plt.show()\n"
   ]
  },
  {
   "cell_type": "code",
   "execution_count": null,
   "metadata": {},
   "outputs": [],
   "source": [
    "import json\n",
    "from pprint import pprint\n",
    "import numpy as np\n",
    "dataset = json.load(open('../data/result/chunk_embeddings/all.json'))\n",
    "data_embeddings = [data['embedding'] for data in dataset.values()]\n",
    "data_embeddings = [embedding for embedding in data_embeddings if embedding != 'No content' ]\n",
    "data_embeddings = np.array(data_embeddings)\n",
    "print(data_embeddings.shape)\n",
    "\n",
    "dr_result = dr(data_embeddings, 'kernelpca')\n",
    "plot(dr_result)"
   ]
  },
  {
   "cell_type": "code",
   "execution_count": 2,
   "metadata": {},
   "outputs": [],
   "source": [
    "def save_json(data, filepath=r'new_data.json'):\n",
    "    with open(filepath, 'w', encoding='utf-8') as fp:\n",
    "        json.dump(data, fp, indent=4)"
   ]
  },
  {
   "cell_type": "code",
   "execution_count": 3,
   "metadata": {},
   "outputs": [],
   "source": [
    "from collections import defaultdict\n",
    "import json\n",
    "dataset = json.load(open('../data/result/chunk_embeddings/1029/all_messages.json'))\n",
    "chunk_messages = defaultdict(list)\n",
    "for message in dataset:\n",
    "    chunk_id = message['interview_id'] + \"_\" + str(message['chunk_index'])\n",
    "    chunk_messages[chunk_id].append(message)"
   ]
  },
  {
   "cell_type": "code",
   "execution_count": 3,
   "metadata": {},
   "outputs": [],
   "source": [
    "from pprint import pprint\n",
    "import itertools\n",
    "from numpy.linalg import norm\n",
    "import numpy as np\n",
    "import json\n",
    "\n",
    "def similarity(v1, v2):\n",
    "    v1 = np.array(v1)\n",
    "    v2 = np.array(v2)\n",
    "    return np.dot(v1,v2)/(norm(v1)*norm(v2))\n",
    "all_chunks = json.load(open('../data/result/chunk_embeddings/1103/all_chunks.json'))\n",
    "chunk_similarities = []\n",
    "for c1, c2 in itertools.combinations(all_chunks, 2):\n",
    "    # c1_embeddings = [message['embedding'] for message in chunk_messages[c1]]\n",
    "    # c2_embeddings = [message['embedding'] for message in chunk_messages[c2]]\n",
    "    # pairwise_similarities = [similarity(m1, m2) for m1 in c1_embeddings for m2 in c2_embeddings]\n",
    "    # cluster_similarity = max(pairwise_similarities)\n",
    "    c1_embedding = c1['embedding']\n",
    "    c2_embedding = c2['embedding']\n",
    "    cluster_similarity = similarity(c1_embedding, c2_embedding)\n",
    "    c1_id = c1['id']\n",
    "    c2_id = c2['id']\n",
    "    chunk_similarities.append((c1_id, c2_id, cluster_similarity))\n",
    "save_json(chunk_similarities, '../data/result/chunk_embeddings/1103/chunk_similarities.json')\n"
   ]
  }
 ],
 "metadata": {
  "kernelspec": {
   "display_name": "lyudao",
   "language": "python",
   "name": "python3"
  },
  "language_info": {
   "codemirror_mode": {
    "name": "ipython",
    "version": 3
   },
   "file_extension": ".py",
   "mimetype": "text/x-python",
   "name": "python",
   "nbconvert_exporter": "python",
   "pygments_lexer": "ipython3",
   "version": "3.11.5"
  },
  "orig_nbformat": 4
 },
 "nbformat": 4,
 "nbformat_minor": 2
}
